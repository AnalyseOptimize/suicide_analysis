{
  "cells": [
    {
      "cell_type": "code",
      "execution_count": 13,
      "id": "1c24bda6-1efd-40d5-b36c-cb98bf12a0a6",
      "metadata": {
        "tags": [],
        "id": "1c24bda6-1efd-40d5-b36c-cb98bf12a0a6"
      },
      "outputs": [],
      "source": [
        "import pandas as pd\n",
        "import matplotlib.pyplot as plt\n",
        "import numpy as np\n",
        "from sklearn.decomposition import PCA\n",
        "from sklearn.model_selection import train_test_split\n",
        "from sklearn import linear_model\n",
        "from sklearn.metrics import median_absolute_error, mean_absolute_percentage_error\n",
        "from tqdm import tqdm\n",
        "\n",
        "url='https://drive.google.com/file/d/1wcwKvqrEsACmBQMeJYEVdlxldOaodSCh/view?usp=sharing'\n",
        "url='https://drive.google.com/uc?id=' + url.split('/')[-2]\n",
        "df = pd.read_csv(url, sep = ';')"
      ]
    },
    {
      "cell_type": "markdown",
      "source": [
        "## The purpose of the notebook\n",
        "\n",
        "This notebook is created for an experimental application of **Principal component analysis (PCA)** for regression task with a vast number of categorical features. The goal of the regression is to predict a number of death rate per 100k population based on:\n",
        "- Region name\n",
        "- Country name\n",
        "- Year\n",
        "- Sex\n",
        "- Age group\n",
        "- Percentage of suicides out of deaths\n",
        "\n",
        "Thus, we will consider only year and percentage of suicides as numerical features. One can argue that age group can be treated the same way but emperically regression shows best result when age is processed with one-hot encoding.\n",
        "\n",
        "The description of the dataset you can find in the main part of the work or in pdf paper."
      ],
      "metadata": {
        "id": "0UvSMdbUl3WJ"
      },
      "id": "0UvSMdbUl3WJ"
    },
    {
      "cell_type": "code",
      "execution_count": 3,
      "id": "b6a33758-df10-4a46-b2d5-0119f14ece99",
      "metadata": {
        "colab": {
          "base_uri": "https://localhost:8080/",
          "height": 206
        },
        "id": "b6a33758-df10-4a46-b2d5-0119f14ece99",
        "outputId": "8b1c0db2-0e2d-4c51-af39-516c1118f003"
      },
      "outputs": [
        {
          "output_type": "execute_result",
          "data": {
            "text/plain": [
              "  Region Name Country Name  Year  Sex  Age Group  \\\n",
              "0      Europe      Albania  1987  All  [Unknown]   \n",
              "1      Europe      Albania  1987  All      [85+]   \n",
              "2      Europe      Albania  1987  All    [80-84]   \n",
              "3      Europe      Albania  1987  All    [75-79]   \n",
              "4      Europe      Albania  1987  All    [70-74]   \n",
              "\n",
              "   Percentage of cause-specific deaths out of total deaths  \\\n",
              "0                                                NaN         \n",
              "1                                           0.044924         \n",
              "2                                           0.000000         \n",
              "3                                           0.047281         \n",
              "4                                           0.000000         \n",
              "\n",
              "   Death rate per 100 000 population  \n",
              "0                                NaN  \n",
              "1                          10.000000  \n",
              "2                           0.000000  \n",
              "3                           3.246753  \n",
              "4                           0.000000  "
            ],
            "text/html": [
              "\n",
              "\n",
              "  <div id=\"df-a7a9b876-f0d7-43be-a1ab-fb9b6844822c\">\n",
              "    <div class=\"colab-df-container\">\n",
              "      <div>\n",
              "<style scoped>\n",
              "    .dataframe tbody tr th:only-of-type {\n",
              "        vertical-align: middle;\n",
              "    }\n",
              "\n",
              "    .dataframe tbody tr th {\n",
              "        vertical-align: top;\n",
              "    }\n",
              "\n",
              "    .dataframe thead th {\n",
              "        text-align: right;\n",
              "    }\n",
              "</style>\n",
              "<table border=\"1\" class=\"dataframe\">\n",
              "  <thead>\n",
              "    <tr style=\"text-align: right;\">\n",
              "      <th></th>\n",
              "      <th>Region Name</th>\n",
              "      <th>Country Name</th>\n",
              "      <th>Year</th>\n",
              "      <th>Sex</th>\n",
              "      <th>Age Group</th>\n",
              "      <th>Percentage of cause-specific deaths out of total deaths</th>\n",
              "      <th>Death rate per 100 000 population</th>\n",
              "    </tr>\n",
              "  </thead>\n",
              "  <tbody>\n",
              "    <tr>\n",
              "      <th>0</th>\n",
              "      <td>Europe</td>\n",
              "      <td>Albania</td>\n",
              "      <td>1987</td>\n",
              "      <td>All</td>\n",
              "      <td>[Unknown]</td>\n",
              "      <td>NaN</td>\n",
              "      <td>NaN</td>\n",
              "    </tr>\n",
              "    <tr>\n",
              "      <th>1</th>\n",
              "      <td>Europe</td>\n",
              "      <td>Albania</td>\n",
              "      <td>1987</td>\n",
              "      <td>All</td>\n",
              "      <td>[85+]</td>\n",
              "      <td>0.044924</td>\n",
              "      <td>10.000000</td>\n",
              "    </tr>\n",
              "    <tr>\n",
              "      <th>2</th>\n",
              "      <td>Europe</td>\n",
              "      <td>Albania</td>\n",
              "      <td>1987</td>\n",
              "      <td>All</td>\n",
              "      <td>[80-84]</td>\n",
              "      <td>0.000000</td>\n",
              "      <td>0.000000</td>\n",
              "    </tr>\n",
              "    <tr>\n",
              "      <th>3</th>\n",
              "      <td>Europe</td>\n",
              "      <td>Albania</td>\n",
              "      <td>1987</td>\n",
              "      <td>All</td>\n",
              "      <td>[75-79]</td>\n",
              "      <td>0.047281</td>\n",
              "      <td>3.246753</td>\n",
              "    </tr>\n",
              "    <tr>\n",
              "      <th>4</th>\n",
              "      <td>Europe</td>\n",
              "      <td>Albania</td>\n",
              "      <td>1987</td>\n",
              "      <td>All</td>\n",
              "      <td>[70-74]</td>\n",
              "      <td>0.000000</td>\n",
              "      <td>0.000000</td>\n",
              "    </tr>\n",
              "  </tbody>\n",
              "</table>\n",
              "</div>\n",
              "      <button class=\"colab-df-convert\" onclick=\"convertToInteractive('df-a7a9b876-f0d7-43be-a1ab-fb9b6844822c')\"\n",
              "              title=\"Convert this dataframe to an interactive table.\"\n",
              "              style=\"display:none;\">\n",
              "\n",
              "  <svg xmlns=\"http://www.w3.org/2000/svg\" height=\"24px\"viewBox=\"0 0 24 24\"\n",
              "       width=\"24px\">\n",
              "    <path d=\"M0 0h24v24H0V0z\" fill=\"none\"/>\n",
              "    <path d=\"M18.56 5.44l.94 2.06.94-2.06 2.06-.94-2.06-.94-.94-2.06-.94 2.06-2.06.94zm-11 1L8.5 8.5l.94-2.06 2.06-.94-2.06-.94L8.5 2.5l-.94 2.06-2.06.94zm10 10l.94 2.06.94-2.06 2.06-.94-2.06-.94-.94-2.06-.94 2.06-2.06.94z\"/><path d=\"M17.41 7.96l-1.37-1.37c-.4-.4-.92-.59-1.43-.59-.52 0-1.04.2-1.43.59L10.3 9.45l-7.72 7.72c-.78.78-.78 2.05 0 2.83L4 21.41c.39.39.9.59 1.41.59.51 0 1.02-.2 1.41-.59l7.78-7.78 2.81-2.81c.8-.78.8-2.07 0-2.86zM5.41 20L4 18.59l7.72-7.72 1.47 1.35L5.41 20z\"/>\n",
              "  </svg>\n",
              "      </button>\n",
              "\n",
              "\n",
              "\n",
              "    <div id=\"df-4996caf5-2476-4008-bcac-97e01c1a0131\">\n",
              "      <button class=\"colab-df-quickchart\" onclick=\"quickchart('df-4996caf5-2476-4008-bcac-97e01c1a0131')\"\n",
              "              title=\"Suggest charts.\"\n",
              "              style=\"display:none;\">\n",
              "\n",
              "<svg xmlns=\"http://www.w3.org/2000/svg\" height=\"24px\"viewBox=\"0 0 24 24\"\n",
              "     width=\"24px\">\n",
              "    <g>\n",
              "        <path d=\"M19 3H5c-1.1 0-2 .9-2 2v14c0 1.1.9 2 2 2h14c1.1 0 2-.9 2-2V5c0-1.1-.9-2-2-2zM9 17H7v-7h2v7zm4 0h-2V7h2v10zm4 0h-2v-4h2v4z\"/>\n",
              "    </g>\n",
              "</svg>\n",
              "      </button>\n",
              "    </div>\n",
              "\n",
              "<style>\n",
              "  .colab-df-quickchart {\n",
              "    background-color: #E8F0FE;\n",
              "    border: none;\n",
              "    border-radius: 50%;\n",
              "    cursor: pointer;\n",
              "    display: none;\n",
              "    fill: #1967D2;\n",
              "    height: 32px;\n",
              "    padding: 0 0 0 0;\n",
              "    width: 32px;\n",
              "  }\n",
              "\n",
              "  .colab-df-quickchart:hover {\n",
              "    background-color: #E2EBFA;\n",
              "    box-shadow: 0px 1px 2px rgba(60, 64, 67, 0.3), 0px 1px 3px 1px rgba(60, 64, 67, 0.15);\n",
              "    fill: #174EA6;\n",
              "  }\n",
              "\n",
              "  [theme=dark] .colab-df-quickchart {\n",
              "    background-color: #3B4455;\n",
              "    fill: #D2E3FC;\n",
              "  }\n",
              "\n",
              "  [theme=dark] .colab-df-quickchart:hover {\n",
              "    background-color: #434B5C;\n",
              "    box-shadow: 0px 1px 3px 1px rgba(0, 0, 0, 0.15);\n",
              "    filter: drop-shadow(0px 1px 2px rgba(0, 0, 0, 0.3));\n",
              "    fill: #FFFFFF;\n",
              "  }\n",
              "</style>\n",
              "\n",
              "    <script>\n",
              "      async function quickchart(key) {\n",
              "        const containerElement = document.querySelector('#' + key);\n",
              "        const charts = await google.colab.kernel.invokeFunction(\n",
              "            'suggestCharts', [key], {});\n",
              "      }\n",
              "    </script>\n",
              "\n",
              "      <script>\n",
              "\n",
              "function displayQuickchartButton(domScope) {\n",
              "  let quickchartButtonEl =\n",
              "    domScope.querySelector('#df-4996caf5-2476-4008-bcac-97e01c1a0131 button.colab-df-quickchart');\n",
              "  quickchartButtonEl.style.display =\n",
              "    google.colab.kernel.accessAllowed ? 'block' : 'none';\n",
              "}\n",
              "\n",
              "        displayQuickchartButton(document);\n",
              "      </script>\n",
              "      <style>\n",
              "    .colab-df-container {\n",
              "      display:flex;\n",
              "      flex-wrap:wrap;\n",
              "      gap: 12px;\n",
              "    }\n",
              "\n",
              "    .colab-df-convert {\n",
              "      background-color: #E8F0FE;\n",
              "      border: none;\n",
              "      border-radius: 50%;\n",
              "      cursor: pointer;\n",
              "      display: none;\n",
              "      fill: #1967D2;\n",
              "      height: 32px;\n",
              "      padding: 0 0 0 0;\n",
              "      width: 32px;\n",
              "    }\n",
              "\n",
              "    .colab-df-convert:hover {\n",
              "      background-color: #E2EBFA;\n",
              "      box-shadow: 0px 1px 2px rgba(60, 64, 67, 0.3), 0px 1px 3px 1px rgba(60, 64, 67, 0.15);\n",
              "      fill: #174EA6;\n",
              "    }\n",
              "\n",
              "    [theme=dark] .colab-df-convert {\n",
              "      background-color: #3B4455;\n",
              "      fill: #D2E3FC;\n",
              "    }\n",
              "\n",
              "    [theme=dark] .colab-df-convert:hover {\n",
              "      background-color: #434B5C;\n",
              "      box-shadow: 0px 1px 3px 1px rgba(0, 0, 0, 0.15);\n",
              "      filter: drop-shadow(0px 1px 2px rgba(0, 0, 0, 0.3));\n",
              "      fill: #FFFFFF;\n",
              "    }\n",
              "  </style>\n",
              "\n",
              "      <script>\n",
              "        const buttonEl =\n",
              "          document.querySelector('#df-a7a9b876-f0d7-43be-a1ab-fb9b6844822c button.colab-df-convert');\n",
              "        buttonEl.style.display =\n",
              "          google.colab.kernel.accessAllowed ? 'block' : 'none';\n",
              "\n",
              "        async function convertToInteractive(key) {\n",
              "          const element = document.querySelector('#df-a7a9b876-f0d7-43be-a1ab-fb9b6844822c');\n",
              "          const dataTable =\n",
              "            await google.colab.kernel.invokeFunction('convertToInteractive',\n",
              "                                                     [key], {});\n",
              "          if (!dataTable) return;\n",
              "\n",
              "          const docLinkHtml = 'Like what you see? Visit the ' +\n",
              "            '<a target=\"_blank\" href=https://colab.research.google.com/notebooks/data_table.ipynb>data table notebook</a>'\n",
              "            + ' to learn more about interactive tables.';\n",
              "          element.innerHTML = '';\n",
              "          dataTable['output_type'] = 'display_data';\n",
              "          await google.colab.output.renderOutput(dataTable, element);\n",
              "          const docLink = document.createElement('div');\n",
              "          docLink.innerHTML = docLinkHtml;\n",
              "          element.appendChild(docLink);\n",
              "        }\n",
              "      </script>\n",
              "    </div>\n",
              "  </div>\n"
            ]
          },
          "metadata": {},
          "execution_count": 3
        }
      ],
      "source": [
        "df = df[['Region Name','Country Name', 'Year','Sex','Age Group','Percentage of cause-specific deaths out of total deaths', 'Death rate per 100 000 population']]\n",
        "df.head()"
      ]
    },
    {
      "cell_type": "code",
      "execution_count": 4,
      "id": "ad5b3fe1-421f-400d-afdf-69b5d7ec0364",
      "metadata": {
        "id": "ad5b3fe1-421f-400d-afdf-69b5d7ec0364"
      },
      "outputs": [],
      "source": [
        "df.dropna(inplace = True)"
      ]
    },
    {
      "cell_type": "code",
      "execution_count": 5,
      "id": "69262f9c-862e-4542-ad6e-b442629d6b74",
      "metadata": {
        "id": "69262f9c-862e-4542-ad6e-b442629d6b74"
      },
      "outputs": [],
      "source": [
        "df = df.loc[df['Age Group'] != 'Unknown'].\\\n",
        "    loc[df['Age Group'] != '[All]']. \\\n",
        "    loc[df['Sex'] != 'All']"
      ]
    },
    {
      "cell_type": "code",
      "execution_count": 6,
      "id": "f4c71eb9-9931-46ca-b228-c23a933f9a0c",
      "metadata": {
        "id": "f4c71eb9-9931-46ca-b228-c23a933f9a0c"
      },
      "outputs": [],
      "source": [
        "cat_features = pd.get_dummies(df[['Region Name', 'Country Name', 'Sex', 'Age Group']])\n",
        "num_features = df[['Year', 'Percentage of cause-specific deaths out of total deaths']]\n",
        "\n",
        "features = pd.merge(cat_features, num_features, left_index = True, right_index = True, how = 'inner')\n",
        "features = features - features.mean(axis = 0)\n",
        "\n",
        "\n",
        "target = df['Death rate per 100 000 population'] - df['Death rate per 100 000 population'].mean()"
      ]
    },
    {
      "cell_type": "code",
      "execution_count": 7,
      "id": "e6436479-1be0-4b3d-b0ec-e2d4c46ed44b",
      "metadata": {
        "id": "e6436479-1be0-4b3d-b0ec-e2d4c46ed44b"
      },
      "outputs": [],
      "source": [
        "x_train, x_test, y_train, y_test = train_test_split(features, target, test_size = 0.5)"
      ]
    },
    {
      "cell_type": "markdown",
      "source": [
        "## The main part\n",
        "\n",
        "When preprocessing including centering data is done, we can transform our feature space with PCA. In order to compare results of a regression we want to have scores (median absolute error) for each number of principal vectors from 1 to 130 in the list `median_absolute_errors`.\n",
        "\n",
        "Visualization shows that **the minimal error is occured with 3 principal vectors** wich is suprisingly small number for 145-dimensional space. It shows a high level of correlation between features and a reduction of these relations helps avoid overfitting.   "
      ],
      "metadata": {
        "id": "b1QHO4qhqPI0"
      },
      "id": "b1QHO4qhqPI0"
    },
    {
      "cell_type": "code",
      "execution_count": 8,
      "id": "1ad0c7f1-2de8-4dc5-963c-47a36f8be386",
      "metadata": {
        "colab": {
          "base_uri": "https://localhost:8080/"
        },
        "id": "1ad0c7f1-2de8-4dc5-963c-47a36f8be386",
        "outputId": "8530ac0b-7900-4baa-8845-4097ea01491c"
      },
      "outputs": [
        {
          "output_type": "stream",
          "name": "stderr",
          "text": [
            "100%|██████████| 129/129 [05:40<00:00,  2.64s/it]\n"
          ]
        }
      ],
      "source": [
        "n_components = np.arange(1,130)\n",
        "median_absolute_errors = []\n",
        "\n",
        "for n in tqdm(n_components):\n",
        "    pca = PCA(n_components = n)\n",
        "    pca.fit(x_train)\n",
        "    x_train_transformed, x_test_transformed = pca.transform(x_train), pca.transform(x_test)\n",
        "\n",
        "    lr = linear_model.LinearRegression()\n",
        "    lr.fit(x_train_transformed, y_train)\n",
        "    predictions = lr.predict(x_test_transformed)\n",
        "\n",
        "    median_absolute_errors.append(median_absolute_error(predictions, y_test))"
      ]
    },
    {
      "cell_type": "code",
      "execution_count": 9,
      "id": "30fe0bc9-57ae-42b2-bec3-fee99b0b85b8",
      "metadata": {
        "colab": {
          "base_uri": "https://localhost:8080/",
          "height": 430
        },
        "id": "30fe0bc9-57ae-42b2-bec3-fee99b0b85b8",
        "outputId": "10dbbf9c-fa5b-4d6d-9fa0-61b55213d73b"
      },
      "outputs": [
        {
          "output_type": "display_data",
          "data": {
            "text/plain": [
              "<Figure size 640x480 with 1 Axes>"
            ],
            "image/png": "[encoded data removed]"
          },
          "metadata": {}
        }
      ],
      "source": [
        "plt.bar(n_components, median_absolute_errors)\n",
        "plt.show()"
      ]
    },
    {
      "cell_type": "markdown",
      "source": [
        "Moreover, PCA with 3 principal components gives slightly better results in predicting. Mean absolute percentage errors are:\n",
        "- Linear regression without regularization - 2.959 %\n",
        "- Ridge regularization - 2.957 %\n",
        "- PCA + Ridge - 2.452 %\n",
        "- PCA + only linear regression - 2.447 %\n",
        "\n",
        "It's worth mentioning that this simple model performs well on the data and deviation from real values is not sizable.  "
      ],
      "metadata": {
        "id": "drSt_xnUtOKY"
      },
      "id": "drSt_xnUtOKY"
    },
    {
      "cell_type": "code",
      "execution_count": 19,
      "id": "43b2f9df-f0b4-4055-9db3-24e2281cce64",
      "metadata": {
        "colab": {
          "base_uri": "https://localhost:8080/"
        },
        "id": "43b2f9df-f0b4-4055-9db3-24e2281cce64",
        "outputId": "83a3a699-2a8a-4741-c227-7b97766a708d"
      },
      "outputs": [
        {
          "output_type": "stream",
          "name": "stdout",
          "text": [
            "2.9586538364338733\n",
            "2.9572545531234296\n"
          ]
        }
      ],
      "source": [
        "lr = linear_model.LinearRegression()\n",
        "lr.fit(x_train, y_train)\n",
        "predictions = lr.predict(x_test)\n",
        "\n",
        "lr2 = linear_model.Ridge()\n",
        "lr2.fit(x_train, y_train)\n",
        "predictions2 = lr2.predict(x_test)\n",
        "\n",
        "print(mean_absolute_percentage_error(y_test, predictions)) # printing results for average linear regression and Ridge regression\n",
        "print(mean_absolute_percentage_error(y_test, predictions2))"
      ]
    },
    {
      "cell_type": "code",
      "execution_count": 18,
      "id": "1c425588-d75e-4747-8040-177c2c0c3e80",
      "metadata": {
        "colab": {
          "base_uri": "https://localhost:8080/"
        },
        "id": "1c425588-d75e-4747-8040-177c2c0c3e80",
        "outputId": "7ca77997-e2b4-4f7b-d60a-551cd2789bdc"
      },
      "outputs": [
        {
          "output_type": "stream",
          "name": "stdout",
          "text": [
            "2.451606000157237\n",
            "2.44681377987924\n"
          ]
        }
      ],
      "source": [
        "pca = PCA(n_components = 3)\n",
        "pca.fit(x_train)\n",
        "x_train_transformed, x_test_transformed = pca.transform(x_train), pca.transform(x_test)\n",
        "\n",
        "lr3 = linear_model.Ridge()\n",
        "lr3.fit(x_train_transformed, y_train)\n",
        "predictions3 = lr3.predict(x_test_transformed)\n",
        "\n",
        "lr4 = linear_model.LinearRegression()\n",
        "lr4.fit(x_train_transformed, y_train)\n",
        "predictions4 = lr4.predict(x_test_transformed)\n",
        "\n",
        "print(mean_absolute_percentage_error(predictions3, y_test))\n",
        "print(mean_absolute_percentage_error(predictions4, y_test))"
      ]
    },
    {
      "cell_type": "code",
      "execution_count": 12,
      "id": "8845910c-4247-477f-9e36-867aa31b3f5d",
      "metadata": {
        "id": "8845910c-4247-477f-9e36-867aa31b3f5d"
      },
      "outputs": [],
      "source": []
    }
  ],
  "metadata": {
    "kernelspec": {
      "display_name": "Python 3 (ipykernel)",
      "language": "python",
      "name": "python3"
    },
    "language_info": {
      "codemirror_mode": {
        "name": "ipython",
        "version": 3
      },
      "file_extension": ".py",
      "mimetype": "text/x-python",
      "name": "python",
      "nbconvert_exporter": "python",
      "pygments_lexer": "ipython3",
      "version": "3.8.8"
    },
    "colab": {
      "provenance": []
    }
  },
  "nbformat": 4,
  "nbformat_minor": 5
}